{
 "cells": [
  {
   "cell_type": "code",
   "execution_count": 115,
   "metadata": {
    "collapsed": true
   },
   "outputs": [],
   "source": [
    "import pandas as pd\n",
    "import numpy as np\n",
    "import matplotlib\n",
    "import matplotlib.pyplot as plt\n",
    "%matplotlib inline\n",
    "\n",
    "from scipy.stats import chisquare\n",
    "from IPython.display import display, HTML"
   ]
  },
  {
   "cell_type": "code",
   "execution_count": 116,
   "metadata": {
    "collapsed": false
   },
   "outputs": [],
   "source": [
    "import pandas as pd\n",
    "import numpy as np\n",
    "import matplotlib\n",
    "import matplotlib.pyplot as plt\n",
    "%matplotlib inline\n",
    "\n",
    "from scipy.stats import chisquare\n",
    "from IPython.display import display, HTML\n",
    "\n",
    "filename = \"datasets/Bishayee Colony Counts 10.27.97-3.8.01.xlsx\"\n",
    "df = pd.read_excel(filename, skiprows = [0,1])\n",
    "df.as_matrix()\n",
    "\n",
    "# Convert to numeric and set any missing values to NaN\n",
    "df_triples = df[['col1', 'col2', 'col3']].apply(pd.to_numeric,errors='coerce')\n",
    "\n",
    "df_triples = df_triples.dropna(axis=0, how='any')\n",
    "\n",
    "df_triples['mean'] = round(df_triples.mean(axis=1))\n"
   ]
  },
  {
   "cell_type": "code",
   "execution_count": 117,
   "metadata": {
    "collapsed": false
   },
   "outputs": [
    {
     "name": "stdout",
     "output_type": "stream",
     "text": [
      "[234, 387, 106]\n"
     ]
    },
    {
     "data": {
      "text/plain": [
       "Power_divergenceResult(statistic=163.34800550206324, pvalue=3.3840072925618739e-36)"
      ]
     },
     "execution_count": 117,
     "metadata": {},
     "output_type": "execute_result"
    }
   ],
   "source": [
    "count = [0,0,0]\n",
    "\n",
    "count[0] = len(df_triples.loc[df_triples['col1'] == df_triples['mean']])\n",
    "count[1] = len(df_triples.loc[df_triples['col2'] == df_triples['mean']])\n",
    "count[2] = len(df_triples.loc[df_triples['col3'] == df_triples['mean']])\n",
    "\n",
    "print(count)\n",
    "chisquare(count)"
   ]
  },
  {
   "cell_type": "code",
   "execution_count": null,
   "metadata": {
    "collapsed": false
   },
   "outputs": [],
   "source": [
    "\n"
   ]
  },
  {
   "cell_type": "code",
   "execution_count": 118,
   "metadata": {
    "collapsed": false
   },
   "outputs": [],
   "source": [
    "filename = \"datasets/Other Investigators in Lab.Colony Counts.4.23.92-11.27.02.xlsx\"\n",
    "df = pd.read_excel(filename, skiprows = [0])\n",
    "df.as_matrix()\n",
    "\n",
    "# Convert to numeric and set any missing values to NaN\n",
    "df_triples = df[['col1', 'col2', 'col3']].apply(pd.to_numeric,errors='coerce')\n",
    "\n",
    "df_triples = df_triples.dropna(axis=0, how='any')\n",
    "\n",
    "df_triples['mean'] = round(df_triples.mean(axis=1))\n"
   ]
  },
  {
   "cell_type": "code",
   "execution_count": 119,
   "metadata": {
    "collapsed": false
   },
   "outputs": [
    {
     "name": "stdout",
     "output_type": "stream",
     "text": [
      "[50, 61, 38]\n"
     ]
    },
    {
     "data": {
      "text/plain": [
       "Power_divergenceResult(statistic=5.3288590604026851, pvalue=0.06963906918968002)"
      ]
     },
     "execution_count": 119,
     "metadata": {},
     "output_type": "execute_result"
    }
   ],
   "source": [
    "count = [0,0,0]\n",
    "\n",
    "count[0] = len(df_triples.loc[df_triples['col1'] == df_triples['mean']])\n",
    "count[1] = len(df_triples.loc[df_triples['col2'] == df_triples['mean']])\n",
    "count[2] = len(df_triples.loc[df_triples['col3'] == df_triples['mean']])\n",
    "\n",
    "print(count)\n",
    "chisquare(count)"
   ]
  },
  {
   "cell_type": "code",
   "execution_count": 120,
   "metadata": {
    "collapsed": true
   },
   "outputs": [],
   "source": [
    "filename = \"datasets/Bishayee Coulter Counts.10.20.97-7.16.01.xlsx\"\n",
    "df = pd.read_excel(filename, skiprows = [0])\n",
    "df.as_matrix()\n",
    "\n",
    "# Convert to numeric and set any missing values to NaN\n",
    "df_triples = df[['Count 1','Count 2','Count 3']].apply(pd.to_numeric,errors='coerce')\n",
    "\n",
    "df_triples = df_triples.dropna(axis=0, how='any')\n",
    "\n",
    "df_triples['mean'] = round(df_triples.mean(axis=1))\n"
   ]
  },
  {
   "cell_type": "code",
   "execution_count": 121,
   "metadata": {
    "collapsed": false
   },
   "outputs": [
    {
     "name": "stdout",
     "output_type": "stream",
     "text": [
      "[38, 80, 60]\n"
     ]
    },
    {
     "data": {
      "text/plain": [
       "Power_divergenceResult(statistic=14.876404494382022, pvalue=0.00058834194075648577)"
      ]
     },
     "execution_count": 121,
     "metadata": {},
     "output_type": "execute_result"
    }
   ],
   "source": [
    "count = [0,0,0]\n",
    "\n",
    "count[0] = len(df_triples.loc[df_triples['Count 1'] == df_triples['mean']])\n",
    "count[1] = len(df_triples.loc[df_triples['Count 2'] == df_triples['mean']])\n",
    "count[2] = len(df_triples.loc[df_triples['Count 3'] == df_triples['mean']])\n",
    "\n",
    "print(count)\n",
    "chisquare(count)"
   ]
  },
  {
   "cell_type": "code",
   "execution_count": 123,
   "metadata": {
    "collapsed": false
   },
   "outputs": [],
   "source": [
    "filename = \"datasets/Other Investigators in Lab.Coulter Counts.4.15.92-5.21.05.xlsx\"\n",
    "df = pd.read_excel(filename, skiprows = [0])\n",
    "df.as_matrix()\n",
    "\n",
    "# Convert to numeric and set any missing values to NaN\n",
    "df_triples = df[['Coul 1','Coul 2','Coul 3']].apply(pd.to_numeric,errors='coerce')\n",
    "\n",
    "df_triples = df_triples.dropna(axis=0, how='any')\n",
    "\n",
    "df_triples['mean'] = round(df_triples.mean(axis=1))"
   ]
  },
  {
   "cell_type": "code",
   "execution_count": 124,
   "metadata": {
    "collapsed": false
   },
   "outputs": [
    {
     "name": "stdout",
     "output_type": "stream",
     "text": [
      "[13, 13, 10]\n"
     ]
    },
    {
     "data": {
      "text/plain": [
       "Power_divergenceResult(statistic=0.5, pvalue=0.77880078307140488)"
      ]
     },
     "execution_count": 124,
     "metadata": {},
     "output_type": "execute_result"
    }
   ],
   "source": [
    "count = [0,0,0]\n",
    "\n",
    "count[0] = len(df_triples.loc[df_triples['Coul 1'] == df_triples['mean']])\n",
    "count[1] = len(df_triples.loc[df_triples['Coul 2'] == df_triples['mean']])\n",
    "count[2] = len(df_triples.loc[df_triples['Coul 3'] == df_triples['mean']])\n",
    "\n",
    "print(count)\n",
    "chisquare(count)"
   ]
  },
  {
   "cell_type": "code",
   "execution_count": null,
   "metadata": {
    "collapsed": true
   },
   "outputs": [],
   "source": []
  }
 ],
 "metadata": {
  "kernelspec": {
   "display_name": "Python [Root]",
   "language": "python",
   "name": "Python [Root]"
  },
  "language_info": {
   "codemirror_mode": {
    "name": "ipython",
    "version": 3
   },
   "file_extension": ".py",
   "mimetype": "text/x-python",
   "name": "python",
   "nbconvert_exporter": "python",
   "pygments_lexer": "ipython3",
   "version": "3.5.2"
  }
 },
 "nbformat": 4,
 "nbformat_minor": 0
}
