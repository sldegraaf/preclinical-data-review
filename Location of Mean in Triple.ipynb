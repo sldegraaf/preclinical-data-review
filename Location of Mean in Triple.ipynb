{
 "cells": [
  {
   "cell_type": "code",
   "execution_count": 10,
   "metadata": {
    "collapsed": false
   },
   "outputs": [],
   "source": [
    "import pandas as pd\n",
    "import numpy as np\n",
    "import matplotlib\n",
    "import matplotlib.pyplot as plt\n",
    "%matplotlib inline\n",
    "\n",
    "from scipy.stats import chisquare\n",
    "from IPython.display import display, HTML\n",
    "\n",
    "filename = \"datasets/Bishayee Colony Counts 10.27.97-3.8.01.xlsx\"\n",
    "df = pd.read_excel(filename, skiprows = [0,1])\n",
    "df.as_matrix()\n",
    "\n",
    "# Convert to numeric and set any missing values to NaN\n",
    "df_triples = df[['col1', 'col2', 'col3']].apply(pd.to_numeric,errors='coerce')\n",
    "\n",
    "df_triples = df_triples.dropna(axis=0, how='any')\n",
    "\n",
    "df_triples['mean'] = round(df_triples.mean(axis=1))\n",
    "\n",
    "df_triples['min'] = df_triples.min(axis=1)\n",
    "df_triples['max'] = df_triples.max(axis=1)\n",
    "df_triples['range'] = df_triples['max'] - df_triples['min']\n",
    "\n",
    "df_triples = df_triples.loc[df_triples['range']>1]\n",
    "\n",
    "# df_triples[(df_triples['col1'] > df_triples['col2']) & (df_triples['col2'] == df_triples['mean'])]"
   ]
  },
  {
   "cell_type": "code",
   "execution_count": 11,
   "metadata": {
    "collapsed": false
   },
   "outputs": [
    {
     "name": "stdout",
     "output_type": "stream",
     "text": [
      "[220, 373, 97]\n"
     ]
    },
    {
     "data": {
      "text/plain": [
       "Power_divergenceResult(statistic=166.25217391304349, pvalue=7.9213487200040731e-37)"
      ]
     },
     "execution_count": 11,
     "metadata": {},
     "output_type": "execute_result"
    }
   ],
   "source": [
    "count = [0,0,0]\n",
    "\n",
    "count[0] = len(df_triples.loc[df_triples['col1'] == df_triples['mean']])\n",
    "count[1] = len(df_triples.loc[df_triples['col2'] == df_triples['mean']])\n",
    "count[2] = len(df_triples.loc[df_triples['col3'] == df_triples['mean']])\n",
    "\n",
    "print(count)\n",
    "chisquare(count)"
   ]
  },
  {
   "cell_type": "code",
   "execution_count": 12,
   "metadata": {
    "collapsed": false
   },
   "outputs": [
    {
     "data": {
      "text/plain": [
       "690"
      ]
     },
     "execution_count": 12,
     "metadata": {},
     "output_type": "execute_result"
    }
   ],
   "source": [
    "sum(count)"
   ]
  },
  {
   "cell_type": "code",
   "execution_count": 13,
   "metadata": {
    "collapsed": false
   },
   "outputs": [],
   "source": [
    "filename = \"datasets/Other Investigators in Lab.Colony Counts.4.23.92-11.27.02.xlsx\"\n",
    "df = pd.read_excel(filename, skiprows = [0])\n",
    "df.as_matrix()\n",
    "\n",
    "# Convert to numeric and set any missing values to NaN\n",
    "df_triples = df[['col1', 'col2', 'col3']].apply(pd.to_numeric,errors='coerce')\n",
    "\n",
    "df_triples = df_triples.dropna(axis=0, how='any')\n",
    "\n",
    "df_triples['mean'] = round(df_triples.mean(axis=1))\n",
    "\n",
    "df_triples['min'] = df_triples.min(axis=1)\n",
    "df_triples['max'] = df_triples.max(axis=1)\n",
    "df_triples['range'] = df_triples['max'] - df_triples['min']\n",
    "\n",
    "df_triples = df_triples.loc[df_triples['range']>1]"
   ]
  },
  {
   "cell_type": "code",
   "execution_count": 14,
   "metadata": {
    "collapsed": false
   },
   "outputs": [
    {
     "name": "stdout",
     "output_type": "stream",
     "text": [
      "[38, 45, 26]\n",
      "Power_divergenceResult(statistic=5.0825688073394497, pvalue=0.078765168522188886)\n",
      "109\n"
     ]
    }
   ],
   "source": [
    "count = [0,0,0]\n",
    "\n",
    "count[0] = len(df_triples.loc[df_triples['col1'] == df_triples['mean']])\n",
    "count[1] = len(df_triples.loc[df_triples['col2'] == df_triples['mean']])\n",
    "count[2] = len(df_triples.loc[df_triples['col3'] == df_triples['mean']])\n",
    "\n",
    "print(count)\n",
    "print(chisquare(count))\n",
    "\n",
    "print(sum(count))"
   ]
  },
  {
   "cell_type": "code",
   "execution_count": 15,
   "metadata": {
    "collapsed": true
   },
   "outputs": [],
   "source": [
    "filename = \"datasets/Bishayee Coulter Counts.10.20.97-7.16.01.xlsx\"\n",
    "df = pd.read_excel(filename, skiprows = [0])\n",
    "df.as_matrix()\n",
    "\n",
    "# Convert to numeric and set any missing values to NaN\n",
    "df_triples = df[['Count 1','Count 2','Count 3']].apply(pd.to_numeric,errors='coerce')\n",
    "\n",
    "df_triples = df_triples.dropna(axis=0, how='any')\n",
    "\n",
    "df_triples['mean'] = round(df_triples.mean(axis=1))\n",
    "\n",
    "df_triples['min'] = df_triples.min(axis=1)\n",
    "df_triples['max'] = df_triples.max(axis=1)\n",
    "df_triples['range'] = df_triples['max'] - df_triples['min']\n",
    "\n",
    "df_triples = df_triples.loc[df_triples['range']>1]"
   ]
  },
  {
   "cell_type": "code",
   "execution_count": 16,
   "metadata": {
    "collapsed": false
   },
   "outputs": [
    {
     "name": "stdout",
     "output_type": "stream",
     "text": [
      "[38, 79, 59]\n",
      "Power_divergenceResult(statistic=14.329545454545455, pvalue=0.00077335471992984433)\n",
      "176\n"
     ]
    }
   ],
   "source": [
    "count = [0,0,0]\n",
    "\n",
    "count[0] = len(df_triples.loc[df_triples['Count 1'] == df_triples['mean']])\n",
    "count[1] = len(df_triples.loc[df_triples['Count 2'] == df_triples['mean']])\n",
    "count[2] = len(df_triples.loc[df_triples['Count 3'] == df_triples['mean']])\n",
    "\n",
    "print(count)\n",
    "print(chisquare(count))\n",
    "print(sum(count))"
   ]
  },
  {
   "cell_type": "code",
   "execution_count": 17,
   "metadata": {
    "collapsed": false
   },
   "outputs": [],
   "source": [
    "filename = \"datasets/Other Investigators in Lab.Coulter Counts.4.15.92-5.21.05.xlsx\"\n",
    "df = pd.read_excel(filename, skiprows = [0])\n",
    "df.as_matrix()\n",
    "\n",
    "# Convert to numeric and set any missing values to NaN\n",
    "df_triples = df[['Coul 1','Coul 2','Coul 3']].apply(pd.to_numeric,errors='coerce')\n",
    "\n",
    "df_triples = df_triples.dropna(axis=0, how='any')\n",
    "\n",
    "df_triples['mean'] = round(df_triples.mean(axis=1))\n",
    "\n",
    "df_triples['min'] = df_triples.min(axis=1)\n",
    "df_triples['max'] = df_triples.max(axis=1)\n",
    "df_triples['range'] = df_triples['max'] - df_triples['min']\n",
    "\n",
    "df_triples = df_triples.loc[df_triples['range']>1]"
   ]
  },
  {
   "cell_type": "code",
   "execution_count": 18,
   "metadata": {
    "collapsed": false
   },
   "outputs": [
    {
     "name": "stdout",
     "output_type": "stream",
     "text": [
      "[13, 13, 10]\n",
      "Power_divergenceResult(statistic=0.5, pvalue=0.77880078307140488)\n",
      "36\n"
     ]
    }
   ],
   "source": [
    "count = [0,0,0]\n",
    "\n",
    "count[0] = len(df_triples.loc[df_triples['Coul 1'] == df_triples['mean']])\n",
    "count[1] = len(df_triples.loc[df_triples['Coul 2'] == df_triples['mean']])\n",
    "count[2] = len(df_triples.loc[df_triples['Coul 3'] == df_triples['mean']])\n",
    "\n",
    "print(count)\n",
    "print(chisquare(count))\n",
    "print(sum(count))"
   ]
  },
  {
   "cell_type": "code",
   "execution_count": null,
   "metadata": {
    "collapsed": true
   },
   "outputs": [],
   "source": []
  }
 ],
 "metadata": {
  "kernelspec": {
   "display_name": "Python [Root]",
   "language": "python",
   "name": "Python [Root]"
  },
  "language_info": {
   "codemirror_mode": {
    "name": "ipython",
    "version": 3
   },
   "file_extension": ".py",
   "mimetype": "text/x-python",
   "name": "python",
   "nbconvert_exporter": "python",
   "pygments_lexer": "ipython3",
   "version": "3.5.2"
  }
 },
 "nbformat": 4,
 "nbformat_minor": 0
}
