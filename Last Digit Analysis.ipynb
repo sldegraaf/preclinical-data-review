{
 "cells": [
  {
   "cell_type": "code",
   "execution_count": 2,
   "metadata": {
    "collapsed": true
   },
   "outputs": [],
   "source": [
    "# Replicate the terminal digit analysis from the review project paper\n",
    "# Erik P Bertelli\n",
    "# UC Berkeley\n",
    "# Stats 215A\n",
    "# September 18 2016"
   ]
  },
  {
   "cell_type": "code",
   "execution_count": 82,
   "metadata": {
    "collapsed": false
   },
   "outputs": [
    {
     "name": "stdout",
     "output_type": "stream",
     "text": [
      "    col1  col2   col3\n",
      "0     78    91   93.0\n",
      "1     90    88   90.0\n",
      "2     80    66   69.0\n",
      "3     63    67   71.0\n",
      "4     44    58   64.0\n",
      "5     38    53   51.0\n",
      "6    247   264  258.0\n",
      "7     46    24   27.0\n",
      "8     64    63   61.0\n",
      "9     77    82   98.0\n",
      "10   115    98  109.0\n",
      "11    87    95   98.0\n",
      "12    41    31   38.0\n",
      "13   146   155  178.0\n",
      "14   112   105  104.0\n",
      "15   117   143  136.0\n",
      "16   117   133  114.0\n",
      "17    38    57   53.0\n",
      "18   170   171  176.0\n",
      "19   102   108    NaN\n",
      "20    74   100   79.0\n",
      "21    85    90   70.0\n",
      "22    38    32   44.0\n",
      "23    28    41   26.0\n",
      "24    28    29   27.0\n"
     ]
    }
   ],
   "source": [
    "import pandas as pd\n",
    "import numpy as np\n",
    "import matplotlib\n",
    "import matplotlib.pyplot as plt\n",
    "%matplotlib inline\n",
    "\n",
    "from scipy.stats import chisquare\n",
    "\n",
    "filename = \"datasets/Bishayee Colony Counts 10.27.97-3.8.01.xlsx\"\n",
    "df = pd.read_excel(filename, skiprows = [0,1])\n",
    "df.as_matrix()\n",
    "# deal with the missing value\n",
    "#df = df[df['col3'] != ' ']\n",
    "# get only the three columns\n",
    "df_triples = df[['col1', 'col2', 'col3']].apply(pd.to_numeric,errors='coerce')\n",
    "print(df_triples[:25])"
   ]
  },
  {
   "cell_type": "code",
   "execution_count": 95,
   "metadata": {
    "collapsed": false
   },
   "outputs": [],
   "source": [
    "def terminal_digit(a):\n",
    "    return a % 10 \n",
    "\n",
    "df_terminal = df_triples.apply(terminal_digit)\n",
    "df_terminal_vector = np.concatenate((df_terminal['col1'],df_terminal['col2'],df_terminal['col3']))\n",
    "\n",
    "df_terminal_vector = df_terminal_vector[np.logical_not(np.isnan(df_terminal_vector))]\n"
   ]
  },
  {
   "cell_type": "code",
   "execution_count": 96,
   "metadata": {
    "collapsed": false
   },
   "outputs": [
    {
     "data": {
      "text/plain": [
       "<matplotlib.text.Text at 0x20f7d6a0da0>"
      ]
     },
     "execution_count": 96,
     "metadata": {},
     "output_type": "execute_result"
    },
    {
     "data": {
      "image/png": "[encoded data removed]",
      "text/plain": [
       "<matplotlib.figure.Figure at 0x20f7d6912e8>"
      ]
     },
     "metadata": {},
     "output_type": "display_data"
    }
   ],
   "source": [
    "plt.figure(figsize=(8, 6))\n",
    "plt.hist(df_terminal_vector, bins=np.arange(11))\n",
    "plt.title('Terminal Digits for RTS Colony Counts')\n",
    "plt.xlabel('Terminal Digit')\n",
    "plt.ylabel('Count')"
   ]
  },
  {
   "cell_type": "code",
   "execution_count": 117,
   "metadata": {
    "collapsed": false
   },
   "outputs": [
    {
     "name": "stdout",
     "output_type": "stream",
     "text": [
      "[564 324 463 313 290 478 336 408 383 526]\n"
     ]
    },
    {
     "data": {
      "text/plain": [
       "Power_divergenceResult(statistic=200.72582619339045, pvalue=2.3337800143638883e-38)"
      ]
     },
     "execution_count": 117,
     "metadata": {},
     "output_type": "execute_result"
    }
   ],
   "source": [
    "RTS_colony_hist = np.histogram(df_terminal_vector, bins=np.arange(11))\n",
    "print(RTS_colony_hist[0])\n",
    "\n",
    "chisquare(RTS_colony_hist[0])"
   ]
  },
  {
   "cell_type": "code",
   "execution_count": 106,
   "metadata": {
    "collapsed": false
   },
   "outputs": [],
   "source": [
    "filename2 = \"datasets/Other Investigators in Lab.Colony Counts.4.23.92-11.27.02.xlsx\"\n",
    "df2 = pd.read_excel(filename2, skiprows = [0])\n",
    "df2.as_matrix()\n",
    "df2_triples = df2[['col1', 'col2', 'col3']].apply(pd.to_numeric,errors='coerce')"
   ]
  },
  {
   "cell_type": "code",
   "execution_count": 102,
   "metadata": {
    "collapsed": false
   },
   "outputs": [],
   "source": [
    "df2_terminal = df2_triples.apply(terminal_digit)\n",
    "#df2_terminal = df2_terminal.dropna(how='all')\n",
    "df2_terminal_vector = np.concatenate((df2_terminal['col1'],df2_terminal['col2'],df2_terminal['col3']))\n",
    "df2_terminal_vector = df2_terminal_vector[np.logical_not(np.isnan(df2_terminal_vector))]"
   ]
  },
  {
   "cell_type": "code",
   "execution_count": 103,
   "metadata": {
    "collapsed": false
   },
   "outputs": [
    {
     "data": {
      "text/plain": [
       "<matplotlib.text.Text at 0x20f7e8c5c18>"
      ]
     },
     "execution_count": 103,
     "metadata": {},
     "output_type": "execute_result"
    },
    {
     "data": {
      "image/png": "[encoded data removed]",
      "text/plain": [
       "<matplotlib.figure.Figure at 0x20f7d7e1d30>"
      ]
     },
     "metadata": {},
     "output_type": "display_data"
    }
   ],
   "source": [
    "plt.figure(figsize=(8, 6))\n",
    "plt.hist(df2_terminal_vector, bins=np.arange(11))\n",
    "plt.title('Terminal Digits for Other Colony Counts')\n",
    "plt.xlabel('Terminal Digit')\n",
    "plt.ylabel('Count')"
   ]
  },
  {
   "cell_type": "code",
   "execution_count": 118,
   "metadata": {
    "collapsed": false
   },
   "outputs": [
    {
     "name": "stdout",
     "output_type": "stream",
     "text": [
      "(array([191, 181, 195, 179, 184, 175, 178, 185, 185, 181], dtype=int64), array([ 0,  1,  2,  3,  4,  5,  6,  7,  8,  9, 10]))\n"
     ]
    },
    {
     "data": {
      "text/plain": [
       "Power_divergenceResult(statistic=1.79062159214831, pvalue=0.99436253377195383)"
      ]
     },
     "execution_count": 118,
     "metadata": {},
     "output_type": "execute_result"
    }
   ],
   "source": [
    "Other_colony_hist = np.histogram(df2_terminal_vector, bins=np.arange(11))\n",
    "print(Other_colony_hist)\n",
    "\n",
    "chisquare(Other_colony_hist[0])"
   ]
  },
  {
   "cell_type": "code",
   "execution_count": 110,
   "metadata": {
    "collapsed": false
   },
   "outputs": [],
   "source": [
    "filename3 = \"datasets/Outside Lab 3.Colony Counts.2.4.10-5.21.12.xlsx\"\n",
    "df3 = pd.read_excel(filename3, skiprows = [0], skipcolumns = [0])\n",
    "df3.as_matrix()\n",
    "#df3 = df3[df3['col3'] != ' ']\n",
    "# df2[['col1', 'col2', 'col3']].head(10)\n",
    "df3_triples = df3[['c1', 'c2', 'c3']].apply(pd.to_numeric)"
   ]
  },
  {
   "cell_type": "code",
   "execution_count": 111,
   "metadata": {
    "collapsed": true
   },
   "outputs": [],
   "source": [
    "df3_terminal = df3_triples.apply(terminal_digit)\n",
    "df3_terminal_vector = np.concatenate((df3_terminal['c1'],df3_terminal['c2'],df3_terminal['c3']))"
   ]
  },
  {
   "cell_type": "code",
   "execution_count": 119,
   "metadata": {
    "collapsed": false
   },
   "outputs": [
    {
     "name": "stdout",
     "output_type": "stream",
     "text": [
      "(array([21,  9, 15, 16, 19, 19,  9, 19, 11, 12], dtype=int64), array([ 0,  1,  2,  3,  4,  5,  6,  7,  8,  9, 10]))\n"
     ]
    },
    {
     "data": {
      "text/plain": [
       "Power_divergenceResult(statistic=12.133333333333331, pvalue=0.20589657510344825)"
      ]
     },
     "execution_count": 119,
     "metadata": {},
     "output_type": "execute_result"
    }
   ],
   "source": [
    "Outside_colony_hist = np.histogram(df3_terminal_vector, bins=np.arange(11))\n",
    "print(Outside_colony_hist)\n",
    "\n",
    "chisquare(Outside_colony_hist[0])"
   ]
  },
  {
   "cell_type": "code",
   "execution_count": null,
   "metadata": {
    "collapsed": true
   },
   "outputs": [],
   "source": []
  }
 ],
 "metadata": {
  "anaconda-cloud": {},
  "kernelspec": {
   "display_name": "Python [Root]",
   "language": "python",
   "name": "Python [Root]"
  },
  "language_info": {
   "codemirror_mode": {
    "name": "ipython",
    "version": 3
   },
   "file_extension": ".py",
   "mimetype": "text/x-python",
   "name": "python",
   "nbconvert_exporter": "python",
   "pygments_lexer": "ipython3",
   "version": "3.5.2"
  }
 },
 "nbformat": 4,
 "nbformat_minor": 0
}
