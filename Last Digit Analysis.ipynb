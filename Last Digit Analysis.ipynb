{
 "cells": [
  {
   "cell_type": "code",
   "execution_count": 2,
   "metadata": {
    "collapsed": true
   },
   "outputs": [],
   "source": [
    "# Replicate the terminal digit analysis from the review project paper\n",
    "# Erik P Bertelli\n",
    "# UC Berkeley\n",
    "# Stats 215A\n",
    "# September 18 2016"
   ]
  },
  {
   "cell_type": "code",
   "execution_count": 10,
   "metadata": {
    "collapsed": false
   },
   "outputs": [],
   "source": [
    "import pandas as pd\n",
    "import numpy as np\n",
    "import matplotlib\n",
    "import matplotlib.pyplot as plt\n",
    "%matplotlib inline\n",
    "\n",
    "filename = \"datasets/Bishayee Colony Counts 10.27.97-3.8.01.xlsx\"\n",
    "df = pd.read_excel(filename, index_col = 1, skiprows = [0,1])\n",
    "df.as_matrix()\n",
    "# deal with the missing value\n",
    "df = df[df['col3'] != ' ']\n",
    "# get only the three columns\n",
    "df_triples = df[['col1', 'col2', 'col3']].apply(pd.to_numeric)"
   ]
  },
  {
   "cell_type": "code",
   "execution_count": 11,
   "metadata": {
    "collapsed": false
   },
   "outputs": [
    {
     "name": "stdout",
     "output_type": "stream",
     "text": [
      "[8 0 0 3 4 8 7 6 4 7]\n"
     ]
    }
   ],
   "source": [
    "def terminal_digit(a):\n",
    "    return a % 10 \n",
    "\n",
    "df_terminal = df_triples.apply(terminal_digit)\n",
    "df_terminal_vector = np.concatenate((df_terminal['col1'],df_terminal['col2'],df_terminal['col3']))\n",
    "print(df_terminal_vector[:10])"
   ]
  },
  {
   "cell_type": "code",
   "execution_count": 12,
   "metadata": {
    "collapsed": false
   },
   "outputs": [
    {
     "data": {
      "text/plain": [
       "<matplotlib.text.Text at 0x20f7b86f710>"
      ]
     },
     "execution_count": 12,
     "metadata": {},
     "output_type": "execute_result"
    },
    {
     "data": {
      "image/png": "[encoded data removed]",
      "text/plain": [
       "<matplotlib.figure.Figure at 0x20f7b66db38>"
      ]
     },
     "metadata": {},
     "output_type": "display_data"
    }
   ],
   "source": [
    "plt.figure(figsize=(8, 6))\n",
    "plt.hist(df_terminal_vector, bins=np.arange(11))\n",
    "plt.title('Terminal Digits for RTS Colony Counts')\n",
    "plt.xlabel('Terminal Digit')\n",
    "plt.ylabel('Count')"
   ]
  },
  {
   "cell_type": "code",
   "execution_count": 14,
   "metadata": {
    "collapsed": false
   },
   "outputs": [
    {
     "name": "stdout",
     "output_type": "stream",
     "text": [
      "(array([564, 324, 462, 313, 290, 478, 336, 408, 382, 526], dtype=int64), array([ 0,  1,  2,  3,  4,  5,  6,  7,  8,  9, 10]))\n"
     ]
    }
   ],
   "source": [
    "RTS_colony_hist = np.histogram(df_terminal_vector, bins=np.arange(11))\n",
    "print(RTS_colony_hist)"
   ]
  },
  {
   "cell_type": "code",
   "execution_count": 16,
   "metadata": {
    "collapsed": false
   },
   "outputs": [
    {
     "name": "stdout",
     "output_type": "stream",
     "text": [
      "            col1   col2   col3\n",
      "Date                          \n",
      "1992-04-23   266  247.0  262.0\n",
      "1992-04-23   170  151.0  156.0\n",
      "1992-04-23    66   66.0   56.0\n",
      "1992-04-23    22   13.0   27.0\n",
      "1992-04-23     1    1.0    4.0\n",
      "1992-04-23    10   13.0   12.0\n",
      "1992-04-23   320  311.0  312.0\n",
      "1992-04-23   194  192.0  203.0\n",
      "1992-04-23   238  228.0  215.0\n",
      "1992-04-23    94   81.0   79.0\n",
      "1992-04-23    17   22.0   36.0\n",
      "1992-04-23    14    8.0   13.0\n",
      "1992-04-23    14   18.0   11.0\n",
      "1992-04-23     5    3.0    6.0\n",
      "1992-04-23    28   29.0   26.0\n",
      "1992-04-23    33   20.0   37.0\n",
      "1992-04-23    14   39.0   32.0\n",
      "1992-05-14   189  182.0  180.0\n",
      "1992-05-14    76   87.0   74.0\n",
      "1992-05-14    29   26.0   25.0\n",
      "1992-05-14    82   72.0   93.0\n",
      "1992-05-14    46   36.0   57.0\n",
      "1992-05-14    46   29.0   34.0\n",
      "1992-05-14    24   23.0   23.0\n",
      "1992-05-14    96  105.0  119.0\n",
      "1992-05-14    68   60.0   60.0\n",
      "1992-05-14   170  186.0  175.0\n",
      "1992-06-30   155  150.0  162.0\n",
      "1992-06-30    98   80.0   67.0\n",
      "1992-06-30   107  110.0    NaN\n",
      "...          ...    ...    ...\n",
      "2001-12-26    75   92.0   84.0\n",
      "2001-12-26   125  106.0  121.0\n",
      "2001-12-26    97   96.0  101.0\n",
      "2001-12-26   101  103.0  124.0\n",
      "2001-12-26    91   93.0   84.0\n",
      "2001-12-26    46    NaN    NaN\n",
      "2001-12-26   210    NaN    NaN\n",
      "2001-12-26   128    NaN    NaN\n",
      "2002-01-06    27   22.0   22.0\n",
      "2002-01-06    15   17.0   22.0\n",
      "2002-01-06    37   46.0   47.0\n",
      "2002-01-06    20   29.0   30.0\n",
      "2002-01-06    30   34.0   37.0\n",
      "2002-01-06    90   97.0  102.0\n",
      "2002-01-06    80   83.0   86.0\n",
      "2002-01-06   168  174.0  194.0\n",
      "2002-01-06   123  144.0  149.0\n",
      "2002-01-06    46   60.0   67.0\n",
      "2002-01-06    20   22.0   27.0\n",
      "2002-01-06    18   23.0   23.0\n",
      "2002-11-27     8    7.0    6.0\n",
      "2002-11-27     4    3.0    3.0\n",
      "2002-11-27    42   47.0   36.0\n",
      "2002-11-27    32   33.0   33.0\n",
      "2002-11-27    34   44.0   45.0\n",
      "2002-11-27    32   30.0   27.0\n",
      "2002-11-27    26   23.0   28.0\n",
      "2002-11-27    32   37.0   32.0\n",
      "2002-11-27    39   34.0   35.0\n",
      "2002-11-27    37   38.0   29.0\n",
      "\n",
      "[619 rows x 3 columns]\n"
     ]
    }
   ],
   "source": [
    "filename = \"datasets/Other Investigators in Lab.Colony Counts.4.23.92-11.27.02.xlsx\"\n",
    "df2 = pd.read_excel(filename, index_col = 1, skiprows = [0])\n",
    "df2.as_matrix()\n",
    "df2 = df2[df2['col3'] != ' ']\n",
    "# df2[['col1', 'col2', 'col3']].head(10)\n",
    "df2_triples = df2[['col1', 'col2', 'col3']].apply(pd.to_numeric)\n",
    "print(df2_triples)"
   ]
  },
  {
   "cell_type": "code",
   "execution_count": 17,
   "metadata": {
    "collapsed": false
   },
   "outputs": [
    {
     "name": "stdout",
     "output_type": "stream",
     "text": [
      "            col1  col2  col3\n",
      "Date                        \n",
      "1992-04-23     6   7.0   2.0\n",
      "1992-04-23     0   1.0   6.0\n",
      "1992-04-23     6   6.0   6.0\n",
      "1992-04-23     2   3.0   7.0\n",
      "1992-04-23     1   1.0   4.0\n",
      "1992-04-23     0   3.0   2.0\n",
      "1992-04-23     0   1.0   2.0\n",
      "1992-04-23     4   2.0   3.0\n",
      "1992-04-23     8   8.0   5.0\n",
      "1992-04-23     4   1.0   9.0\n",
      "1992-04-23     7   2.0   6.0\n",
      "1992-04-23     4   8.0   3.0\n",
      "1992-04-23     4   8.0   1.0\n",
      "1992-04-23     5   3.0   6.0\n",
      "1992-04-23     8   9.0   6.0\n",
      "1992-04-23     3   0.0   7.0\n",
      "1992-04-23     4   9.0   2.0\n",
      "1992-05-14     9   2.0   0.0\n",
      "1992-05-14     6   7.0   4.0\n",
      "1992-05-14     9   6.0   5.0\n",
      "1992-05-14     2   2.0   3.0\n",
      "1992-05-14     6   6.0   7.0\n",
      "1992-05-14     6   9.0   4.0\n",
      "1992-05-14     4   3.0   3.0\n",
      "1992-05-14     6   5.0   9.0\n",
      "1992-05-14     8   0.0   0.0\n",
      "1992-05-14     0   6.0   5.0\n",
      "1992-06-30     5   0.0   2.0\n",
      "1992-06-30     8   0.0   7.0\n",
      "1992-06-30     7   0.0   NaN\n",
      "...          ...   ...   ...\n",
      "2001-12-26     5   2.0   4.0\n",
      "2001-12-26     5   6.0   1.0\n",
      "2001-12-26     7   6.0   1.0\n",
      "2001-12-26     1   3.0   4.0\n",
      "2001-12-26     1   3.0   4.0\n",
      "2001-12-26     6   NaN   NaN\n",
      "2001-12-26     0   NaN   NaN\n",
      "2001-12-26     8   NaN   NaN\n",
      "2002-01-06     7   2.0   2.0\n",
      "2002-01-06     5   7.0   2.0\n",
      "2002-01-06     7   6.0   7.0\n",
      "2002-01-06     0   9.0   0.0\n",
      "2002-01-06     0   4.0   7.0\n",
      "2002-01-06     0   7.0   2.0\n",
      "2002-01-06     0   3.0   6.0\n",
      "2002-01-06     8   4.0   4.0\n",
      "2002-01-06     3   4.0   9.0\n",
      "2002-01-06     6   0.0   7.0\n",
      "2002-01-06     0   2.0   7.0\n",
      "2002-01-06     8   3.0   3.0\n",
      "2002-11-27     8   7.0   6.0\n",
      "2002-11-27     4   3.0   3.0\n",
      "2002-11-27     2   7.0   6.0\n",
      "2002-11-27     2   3.0   3.0\n",
      "2002-11-27     4   4.0   5.0\n",
      "2002-11-27     2   0.0   7.0\n",
      "2002-11-27     6   3.0   8.0\n",
      "2002-11-27     2   7.0   2.0\n",
      "2002-11-27     9   4.0   5.0\n",
      "2002-11-27     7   8.0   9.0\n",
      "\n",
      "[619 rows x 3 columns]\n"
     ]
    }
   ],
   "source": [
    "df2_terminal = df2_triples.apply(terminal_digit)\n",
    "print(df2_terminal)\n",
    "df2_terminal_vector = np.concatenate((df2_terminal['col1'],df2_terminal['col2'],df2_terminal['col3']))\n",
    "df2_terminal_vector = df2_terminal_vector.astype(int)"
   ]
  },
  {
   "cell_type": "code",
   "execution_count": 9,
   "metadata": {
    "collapsed": false
   },
   "outputs": [
    {
     "data": {
      "text/plain": [
       "<matplotlib.text.Text at 0x20f7b680a20>"
      ]
     },
     "execution_count": 9,
     "metadata": {},
     "output_type": "execute_result"
    },
    {
     "data": {
      "image/png": "[encoded data removed]",
      "text/plain": [
       "<matplotlib.figure.Figure at 0x20f7b64ea58>"
      ]
     },
     "metadata": {},
     "output_type": "display_data"
    }
   ],
   "source": [
    "plt.figure(figsize=(8, 6))\n",
    "plt.hist(df2_terminal_vector, bins=np.arange(11))\n",
    "plt.title('Terminal Digits for Other Colony Counts')\n",
    "plt.xlabel('Terminal Digit')\n",
    "plt.ylabel('Count')"
   ]
  },
  {
   "cell_type": "code",
   "execution_count": 15,
   "metadata": {
    "collapsed": false
   },
   "outputs": [
    {
     "name": "stdout",
     "output_type": "stream",
     "text": [
      "(array([191, 180, 195, 179, 183, 174, 178, 184, 185, 181], dtype=int64), array([ 0,  1,  2,  3,  4,  5,  6,  7,  8,  9, 10]))\n"
     ]
    }
   ],
   "source": [
    "Other_colony_hist = np.histogram(df2_terminal_vector, bins=np.arange(11))\n",
    "print(Other_colony_hist)"
   ]
  },
  {
   "cell_type": "code",
   "execution_count": null,
   "metadata": {
    "collapsed": true
   },
   "outputs": [],
   "source": []
  }
 ],
 "metadata": {
  "anaconda-cloud": {},
  "kernelspec": {
   "display_name": "Python [Root]",
   "language": "python",
   "name": "Python [Root]"
  },
  "language_info": {
   "codemirror_mode": {
    "name": "ipython",
    "version": 3
   },
   "file_extension": ".py",
   "mimetype": "text/x-python",
   "name": "python",
   "nbconvert_exporter": "python",
   "pygments_lexer": "ipython3",
   "version": "3.5.2"
  }
 },
 "nbformat": 4,
 "nbformat_minor": 0
}
