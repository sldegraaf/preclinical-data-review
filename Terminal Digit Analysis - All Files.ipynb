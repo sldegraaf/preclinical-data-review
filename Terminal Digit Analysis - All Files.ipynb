{
 "cells": [
  {
   "cell_type": "code",
   "execution_count": 1,
   "metadata": {
    "collapsed": true
   },
   "outputs": [],
   "source": [
    "# Replicate the terminal digit analysis from the review project paper\n",
    "# Erik P Bertelli\n",
    "# UC Berkeley\n",
    "# Stats 215A\n",
    "# September 18 2016\n",
    "\n",
    "'''\n",
    "This code replicates the Terminal Digits Analysis found the referee project paper for Stats 215A Fall 2016 at UC Berkeley\n",
    "In order to run it you must have the 7 files in a subfolder datasets/ of your working directory\n",
    "Set the filename parameter to the file of interest and run\n",
    "Results will be output to a file called Terminal Digit Outputs.csv\n",
    "'''"
   ]
  },
  {
   "cell_type": "code",
   "execution_count": 155,
   "metadata": {
    "collapsed": false
   },
   "outputs": [],
   "source": [
    "import pandas as pd\n",
    "import numpy as np\n",
    "import matplotlib\n",
    "import matplotlib.pyplot as plt\n",
    "%matplotlib inline\n",
    "\n",
    "from scipy.stats import chisquare\n",
    "from IPython.display import display, HTML\n",
    "\n",
    "\"\"\" Here are all of the possible files you can load into this script\n",
    "\n",
    "COLONY COUNTS\n",
    "\"datasets/Bishayee Colony Counts 10.27.97-3.8.01.xlsx\" \n",
    "\"datasets/Other Investigators in Lab.Colony Counts.4.23.92-11.27.02.xlsx\"\n",
    "\"datasets/Outside Lab 3.Colony Counts.2.4.10-5.21.12.xlsx\"\n",
    "\n",
    "COULTER COUNTS\n",
    "\"datasets/Bishayee Coulter Counts.10.20.97-7.16.01.xlsx\"\n",
    "\"datasets/Other Investigators in Lab.Coulter Counts.4.15.92-5.21.05.xlsx\"\n",
    "\"datasets/Outside Lab 1.Coulter Counts.6.7.91-4.9.99.xlsx\"\n",
    "\"datasets/Outside Lab 2.Coulter Counts.6.6.08-7.7.08.xlsx\"\n",
    "\"\"\"\n",
    "\n",
    "# set filename here\n",
    "filename = \"datasets/Other Investigators in Lab.Coulter Counts.4.15.92-5.21.05.xlsx\"\n",
    "\n",
    "# there are differences in the files in number of rows to skip\n",
    "if filename == \"datasets/Bishayee Colony Counts 10.27.97-3.8.01.xlsx\":\n",
    "    rows_to_skip = [0,1]\n",
    "elif filename == \"datasets/Outside Lab 1.Coulter Counts.6.7.91-4.9.99.xlsx\":\n",
    "    rows_to_skip = []\n",
    "else:\n",
    "    rows_to_skip = [0]\n",
    "\n",
    "# there are different column names in the files we must account for\n",
    "if filename == \"datasets/Bishayee Colony Counts 10.27.97-3.8.01.xlsx\":\n",
    "    column_names = ['col1', 'col2', 'col3']\n",
    "elif filename == \"datasets/Other Investigators in Lab.Colony Counts.4.23.92-11.27.02.xlsx\":\n",
    "    column_names = ['col1', 'col2', 'col3']\n",
    "elif filename == \"datasets/Outside Lab 3.Colony Counts.2.4.10-5.21.12.xlsx\":\n",
    "    column_names = ['c1', 'c2', 'c3']\n",
    "elif filename == \"datasets/Bishayee Coulter Counts.10.20.97-7.16.01.xlsx\":\n",
    "    column_names = ['Count 1','Count 2','Count 3']\n",
    "elif filename == \"datasets/Other Investigators in Lab.Coulter Counts.4.15.92-5.21.05.xlsx\":\n",
    "    column_names = ['Coul 1','Coul 2','Coul 3']\n",
    "elif filename == \"datasets/Outside Lab 1.Coulter Counts.6.7.91-4.9.99.xlsx\":\n",
    "    column_names = ['Unnamed: 1','Unnamed: 2','Unnamed: 3']\n",
    "else:\n",
    "    column_names = ['Count 1','Count 2','Count 3']   \n",
    "\n",
    "# read in the file \n",
    "df = pd.read_excel(filename, skiprows = rows_to_skip)\n",
    "df.as_matrix()\n",
    "\n",
    "# get only the three columns\n",
    "df_triples = df[column_names].apply(pd.to_numeric,errors='coerce')"
   ]
  },
  {
   "cell_type": "code",
   "execution_count": 156,
   "metadata": {
    "collapsed": false
   },
   "outputs": [],
   "source": [
    "def terminal_digit(a):\n",
    "    return a % 10 \n",
    "\n",
    "df_terminal = df_triples.apply(terminal_digit)\n",
    "df_terminal_vector = np.concatenate((df_terminal[column_names[0]],df_terminal[column_names[1]],df_terminal[column_names[2]]))\n",
    "\n",
    "df_terminal_vector = df_terminal_vector[np.logical_not(np.isnan(df_terminal_vector))]"
   ]
  },
  {
   "cell_type": "code",
   "execution_count": 157,
   "metadata": {
    "collapsed": false
   },
   "outputs": [
    {
     "data": {
      "text/plain": [
       "<matplotlib.text.Text at 0x15b460b7b00>"
      ]
     },
     "execution_count": 157,
     "metadata": {},
     "output_type": "execute_result"
    },
    {
     "data": {
      "image/png": "[encoded data removed]",
      "text/plain": [
       "<matplotlib.figure.Figure at 0x15b443bf1d0>"
      ]
     },
     "metadata": {},
     "output_type": "display_data"
    }
   ],
   "source": [
    "plt.figure(figsize=(8, 6))\n",
    "plt.hist(df_terminal_vector, bins=np.arange(11))\n",
    "plt.title('Terminal Digits for %s' %filename)\n",
    "plt.xlabel('Terminal Digit')\n",
    "plt.ylabel('Count')"
   ]
  },
  {
   "cell_type": "code",
   "execution_count": 158,
   "metadata": {
    "collapsed": false
   },
   "outputs": [
    {
     "name": "stdout",
     "output_type": "stream",
     "text": [
      "[[  0   1   2   3   4   5   6   7   8   9]\n",
      " [261 311 295 259 318 290 298 283 331 296]]\n",
      "Power_divergenceResult(statistic=15.994561522773623, pvalue=0.066995244285223132)\n"
     ]
    }
   ],
   "source": [
    "hist = np.histogram(df_terminal_vector, bins=np.arange(11))\n",
    "\n",
    "hist_out = np.row_stack((hist[1][0:10], hist[0]))\n",
    "\n",
    "print(hist_out)\n",
    "\n",
    "chi_out = chisquare(hist[0])\n",
    "\n",
    "print(chi_out)"
   ]
  },
  {
   "cell_type": "code",
   "execution_count": 159,
   "metadata": {
    "collapsed": false
   },
   "outputs": [
    {
     "name": "stdout",
     "output_type": "stream",
     "text": [
      "[[ 0  1  2  3  4  5  6  7  8  9 10 11 12 13 14 15 16 17 18 19 20 21 22 23\n",
      "  24 25 26 27 28 29 30 31 32 33 34 35 36 37 38 39 40 41 42 43 44 45 46 47\n",
      "  48 49 50 51 52 53 54 55 56 57 58 59 60 61 62 63 64 65 66 67 68 69 70 71\n",
      "  72 73 74 75 76 77 78 79 80 81 82 83 84 85 86 87 88 89 90 91 92 93 94 95\n",
      "  96 97 98 99]\n",
      " [18 25 28 30 40 41 15 23 31 38 34 30 28 25 30 34 28 25 25 28 29 39 34 22\n",
      "  30 24 38 32 37 30 19 30 36 21 30 23 34 19 29 29 21 29 23 30 28 24 23 31\n",
      "  26 25 44 26 31 26 27 29 28 24 36 31 25 34 33 21 32 36 31 37 33 29 30 40\n",
      "  28 23 24 16 33 30 36 31 20 26 24 25 41 26 26 24 39 23 19 27 24 34 28 27\n",
      "  38 29 36 26]]\n",
      "Power_divergenceResult(statistic=121.69414617249738, pvalue=0.060527331349306712)\n"
     ]
    },
    {
     "data": {
      "image/png": "[encoded data removed]",
      "text/plain": [
       "<matplotlib.figure.Figure at 0x15b45fcd5c0>"
      ]
     },
     "metadata": {},
     "output_type": "display_data"
    }
   ],
   "source": [
    "def terminal2_digit(a):\n",
    "    return a % 100\n",
    "\n",
    "df_vector = np.concatenate((df_triples[column_names[0]],df_triples[column_names[1]],df_triples[column_names[2]]))\n",
    "\n",
    "# only consider three digit numbers for this part\n",
    "df_vector = df_vector[df_vector > 99]\n",
    "\n",
    "df_terminal2_vector =  np.apply_along_axis(terminal2_digit, 0, df_vector) \n",
    "\n",
    "df_terminal2_vector = df_terminal2_vector[np.logical_not(np.isnan(df_terminal2_vector))]\n",
    "\n",
    "plt.figure(figsize=(8, 6))\n",
    "plt.hist(df_terminal2_vector, bins=np.arange(101))\n",
    "plt.title('Terminal 2 Digits for RTS Colony Counts')\n",
    "plt.xlabel('Terminal 2 Digit')\n",
    "plt.ylabel('Count')\n",
    "\n",
    "hist2 = np.histogram(df_terminal2_vector, bins=np.arange(101))\n",
    "\n",
    "hist2_out = np.row_stack((hist2[1][0:100], hist2[0]))\n",
    "\n",
    "print(hist2_out)\n",
    "\n",
    "chi2_out = chisquare(hist2[0])\n",
    "\n",
    "print(chi2_out)"
   ]
  },
  {
   "cell_type": "code",
   "execution_count": 151,
   "metadata": {
    "collapsed": false
   },
   "outputs": [
    {
     "name": "stdout",
     "output_type": "stream",
     "text": [
      "30\n"
     ]
    }
   ],
   "source": [
    "equal_digits = sum(hist2[0][[0,11,22,33,44,55,66,77,88,99]])\n",
    "print(equal_digits)"
   ]
  },
  {
   "cell_type": "code",
   "execution_count": 152,
   "metadata": {
    "collapsed": false
   },
   "outputs": [
    {
     "name": "stdout",
     "output_type": "stream",
     "text": [
      "0.832819915808\n"
     ]
    }
   ],
   "source": [
    "from scipy.stats import binom\n",
    "\n",
    "n = len(df_terminal2_vector)\n",
    "\n",
    "equal_digitprob = 1 - binom.cdf(equal_digits, len(df_terminal2_vector), .1)\n",
    "print(equal_digitprob)"
   ]
  },
  {
   "cell_type": "code",
   "execution_count": 153,
   "metadata": {
    "collapsed": false
   },
   "outputs": [],
   "source": [
    "import csv\n",
    "with open('Terminal Digit Outputs.csv', 'a', newline='') as fp:\n",
    "    a = csv.writer(fp, delimiter=',')\n",
    "    a.writerow([filename])\n",
    "    a.writerows(hist_out)\n",
    "    a.writerow(['statistic','pvalue'])\n",
    "    a.writerow(chi_out)\n",
    "    a.writerows(hist2_out)\n",
    "    a.writerow(['statistic','pvalue'])\n",
    "    a.writerow(chi2_out)\n",
    "    a.writerow(['Number of Equal Digits','Total','prob'])\n",
    "    a.writerow([equal_digits, n, equal_digitprob])\n",
    "\n",
    "    \n",
    "    "
   ]
  },
  {
   "cell_type": "code",
   "execution_count": null,
   "metadata": {
    "collapsed": true
   },
   "outputs": [],
   "source": []
  },
  {
   "cell_type": "code",
   "execution_count": null,
   "metadata": {
    "collapsed": true
   },
   "outputs": [],
   "source": []
  }
 ],
 "metadata": {
  "anaconda-cloud": {},
  "kernelspec": {
   "display_name": "Python [Root]",
   "language": "python",
   "name": "Python [Root]"
  },
  "language_info": {
   "codemirror_mode": {
    "name": "ipython",
    "version": 3
   },
   "file_extension": ".py",
   "mimetype": "text/x-python",
   "name": "python",
   "nbconvert_exporter": "python",
   "pygments_lexer": "ipython3",
   "version": "3.5.2"
  }
 },
 "nbformat": 4,
 "nbformat_minor": 0
}
