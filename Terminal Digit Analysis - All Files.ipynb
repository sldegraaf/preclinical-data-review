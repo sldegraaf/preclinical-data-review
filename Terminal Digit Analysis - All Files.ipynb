{
 "cells": [
  {
   "cell_type": "code",
   "execution_count": 1,
   "metadata": {
    "collapsed": true
   },
   "outputs": [],
   "source": [
    "# Replicate the terminal digit analysis from the review project paper\n",
    "# Erik P Bertelli\n",
    "# UC Berkeley\n",
    "# Stats 215A\n",
    "# September 18 2016\n",
    "\n",
    "'''\n",
    "This code replicates the Terminal Digits Analysis found the referee project paper for Stats 215A Fall 2016 at UC Berkeley\n",
    "In order to run it you must have the 7 files in a subfolder datasets/ of your working directory\n",
    "Set the filename parameter to the file of interest and run\n",
    "Results will be output to a file called Terminal Digit Outputs.csv\n",
    "'''"
   ]
  },
  {
   "cell_type": "code",
   "execution_count": 182,
   "metadata": {
    "collapsed": false
   },
   "outputs": [],
   "source": [
    "import pandas as pd\n",
    "import numpy as np\n",
    "import matplotlib\n",
    "import matplotlib.pyplot as plt\n",
    "%matplotlib inline\n",
    "\n",
    "from scipy.stats import chisquare\n",
    "from IPython.display import display, HTML\n",
    "\n",
    "\"\"\" Here are all of the possible files you can load into this script\n",
    "\n",
    "COLONY COUNTS\n",
    "\"datasets/Bishayee Colony Counts 10.27.97-3.8.01.xlsx\" \n",
    "\"datasets/Other Investigators in Lab.Colony Counts.4.23.92-11.27.02.xlsx\"\n",
    "\"datasets/Outside Lab 3.Colony Counts.2.4.10-5.21.12.xlsx\"\n",
    "\n",
    "COULTER COUNTS\n",
    "\"datasets/Bishayee Coulter Counts.10.20.97-7.16.01.xlsx\"\n",
    "\"datasets/Other Investigators in Lab.Coulter Counts.4.15.92-5.21.05.xlsx\"\n",
    "\"datasets/Outside Lab 1.Coulter Counts.6.7.91-4.9.99.xlsx\"\n",
    "\"datasets/Outside Lab 2.Coulter Counts.6.6.08-7.7.08.xlsx\"\n",
    "\"\"\"\n",
    "\n",
    "# set filename here\n",
    "filename = \"datasets/Bishayee Colony Counts 10.27.97-3.8.01.xlsx\" \n",
    "\n",
    "# there are differences in the files in number of rows to skip\n",
    "if filename == \"datasets/Bishayee Colony Counts 10.27.97-3.8.01.xlsx\":\n",
    "    rows_to_skip = [0,1]\n",
    "elif filename == \"datasets/Outside Lab 1.Coulter Counts.6.7.91-4.9.99.xlsx\":\n",
    "    rows_to_skip = []\n",
    "else:\n",
    "    rows_to_skip = [0]\n",
    "\n",
    "# there are different column names in the files we must account for\n",
    "if filename == \"datasets/Bishayee Colony Counts 10.27.97-3.8.01.xlsx\":\n",
    "    column_names = ['col1', 'col2', 'col3']\n",
    "elif filename == \"datasets/Other Investigators in Lab.Colony Counts.4.23.92-11.27.02.xlsx\":\n",
    "    column_names = ['col1', 'col2', 'col3']\n",
    "elif filename == \"datasets/Outside Lab 3.Colony Counts.2.4.10-5.21.12.xlsx\":\n",
    "    column_names = ['c1', 'c2', 'c3']\n",
    "elif filename == \"datasets/Bishayee Coulter Counts.10.20.97-7.16.01.xlsx\":\n",
    "    column_names = ['Count 1','Count 2','Count 3']\n",
    "elif filename == \"datasets/Other Investigators in Lab.Coulter Counts.4.15.92-5.21.05.xlsx\":\n",
    "    column_names = ['Coul 1','Coul 2','Coul 3']\n",
    "elif filename == \"datasets/Outside Lab 1.Coulter Counts.6.7.91-4.9.99.xlsx\":\n",
    "    column_names = ['Unnamed: 1','Unnamed: 2','Unnamed: 3']\n",
    "else:\n",
    "    column_names = ['Count 1','Count 2','Count 3']   \n",
    "\n",
    "# read in the file \n",
    "df = pd.read_excel(filename, skiprows = rows_to_skip)\n",
    "df.as_matrix()\n",
    "\n",
    "# get only the three columns\n",
    "df_triples = df[column_names].apply(pd.to_numeric,errors='coerce')"
   ]
  },
  {
   "cell_type": "code",
   "execution_count": 191,
   "metadata": {
    "collapsed": false
   },
   "outputs": [],
   "source": [
    "def terminal_digit(a):\n",
    "    return a % 10 \n",
    "\n",
    "df_terminal = df_triples.apply(terminal_digit)\n",
    "df_terminal_vector = np.concatenate((df_terminal[column_names[0]],df_terminal[column_names[1]],df_terminal[column_names[2]]))\n",
    "\n",
    "df_terminal_vector = df_terminal_vector[np.logical_not(np.isnan(df_terminal_vector))]"
   ]
  },
  {
   "cell_type": "code",
   "execution_count": 176,
   "metadata": {
    "collapsed": false
   },
   "outputs": [
    {
     "data": {
      "text/plain": [
       "<matplotlib.text.Text at 0x20b3c7a83c8>"
      ]
     },
     "execution_count": 176,
     "metadata": {},
     "output_type": "execute_result"
    },
    {
     "data": {
      "image/png": "[encoded data removed]",
      "text/plain": [
       "<matplotlib.figure.Figure at 0x20b3c6fc860>"
      ]
     },
     "metadata": {},
     "output_type": "display_data"
    }
   ],
   "source": [
    "plt.figure(figsize=(8, 6))\n",
    "plt.hist(df_terminal_vector, bins=np.arange(11))\n",
    "plt.title('Terminal Digits for %s' %filename)\n",
    "plt.xlabel('Terminal Digit')\n",
    "plt.ylabel('Count')"
   ]
  },
  {
   "cell_type": "code",
   "execution_count": 177,
   "metadata": {
    "collapsed": false
   },
   "outputs": [
    {
     "name": "stdout",
     "output_type": "stream",
     "text": [
      "[[ 0  1  2  3  4  5  6  7  8  9]\n",
      " [34 38 45 35 32 42 31 35 35 33]]\n",
      "Power_divergenceResult(statistic=4.9444444444444438, pvalue=0.83912402419536669)\n"
     ]
    }
   ],
   "source": [
    "hist = np.histogram(df_terminal_vector, bins=np.arange(11))\n",
    "\n",
    "hist_out = np.row_stack((hist[1][0:10], hist[0]))\n",
    "\n",
    "print(hist_out)\n",
    "\n",
    "chi_out = chisquare(hist[0])\n",
    "\n",
    "print(chi_out)"
   ]
  },
  {
   "cell_type": "code",
   "execution_count": 178,
   "metadata": {
    "collapsed": false
   },
   "outputs": [
    {
     "name": "stdout",
     "output_type": "stream",
     "text": [
      "[[ 0  1  2  3  4  5  6  7  8  9 10 11 12 13 14 15 16 17 18 19 20 21 22 23\n",
      "  24 25 26 27 28 29 30 31 32 33 34 35 36 37 38 39 40 41 42 43 44 45 46 47\n",
      "  48 49 50 51 52 53 54 55 56 57 58 59 60 61 62 63 64 65 66 67 68 69 70 71\n",
      "  72 73 74 75 76 77 78 79 80 81 82 83 84 85 86 87 88 89 90 91 92 93 94 95\n",
      "  96 97 98 99]\n",
      " [ 3  4  6  2  1  5  1  4  3  2  2  4  3  0  1  5  7  7  3  2  6  6  7  7\n",
      "   6  5  2  3  2  4  2  2  7  3  4  9  5  3  6  4  3  1  1  4  3  2  1  3\n",
      "   4  4  5  8  3  5  4  3  5  3  6  6  3  2  6  3  5  3  2  2  7  2  6  4\n",
      "   5  8  3  2  5  3  2  4  1  3  3  2  1  3  2  1  2  5  3  4  4  1  4  5\n",
      "   1  6  0  0]]\n",
      "Power_divergenceResult(statistic=107.77777777777776, pvalue=0.25677109352059041)\n"
     ]
    },
    {
     "data": {
      "image/png": "[encoded data removed]",
      "text/plain": [
       "<matplotlib.figure.Figure at 0x20b3c855898>"
      ]
     },
     "metadata": {},
     "output_type": "display_data"
    }
   ],
   "source": [
    "def terminal2_digit(a):\n",
    "    return a % 100\n",
    "\n",
    "df_terminal2 = df_triples.apply(terminal2_digit)\n",
    "df_terminal2_vector = np.concatenate((df_terminal2[column_names[0]],df_terminal2[column_names[1]],df_terminal2[column_names[2]]))\n",
    "\n",
    "df_terminal2_vector = df_terminal2_vector[np.logical_not(np.isnan(df_terminal2_vector))]\n",
    "\n",
    "plt.figure(figsize=(8, 6))\n",
    "plt.hist(df_terminal2_vector, bins=np.arange(101))\n",
    "plt.title('Terminal 2 Digits for RTS Colony Counts')\n",
    "plt.xlabel('Terminal 2 Digit')\n",
    "plt.ylabel('Count')\n",
    "\n",
    "hist2 = np.histogram(df_terminal2_vector, bins=np.arange(101))\n",
    "\n",
    "hist2_out = np.row_stack((hist2[1][0:100], hist2[0]))\n",
    "\n",
    "print(hist2_out)\n",
    "\n",
    "chi2_out = chisquare(hist2[0])\n",
    "\n",
    "print(chi2_out)"
   ]
  },
  {
   "cell_type": "code",
   "execution_count": 169,
   "metadata": {
    "collapsed": false
   },
   "outputs": [],
   "source": [
    "import csv\n",
    "with open('Terminal Digit Outputs.csv', 'a', newline='') as fp:\n",
    "    a = csv.writer(fp, delimiter=',')\n",
    "    a.writerow([filename])\n",
    "    a.writerows(hist_out)\n",
    "    a.writerow(['statistic','pvalue'])\n",
    "    a.writerow(chi_out)\n",
    "    a.writerows(hist2_out)\n",
    "    a.writerow(['statistic','pvalue'])\n",
    "    a.writerow(chi2_out)\n",
    "\n",
    "    \n",
    "    "
   ]
  },
  {
   "cell_type": "code",
   "execution_count": 180,
   "metadata": {
    "collapsed": false
   },
   "outputs": [
    {
     "name": "stdout",
     "output_type": "stream",
     "text": [
      "Count 1 int64\n",
      "Count 2 int64\n",
      "Count 3 int64\n"
     ]
    }
   ],
   "source": []
  },
  {
   "cell_type": "code",
   "execution_count": null,
   "metadata": {
    "collapsed": true
   },
   "outputs": [],
   "source": []
  }
 ],
 "metadata": {
  "kernelspec": {
   "display_name": "Python [Root]",
   "language": "python",
   "name": "Python [Root]"
  },
  "language_info": {
   "codemirror_mode": {
    "name": "ipython",
    "version": 3
   },
   "file_extension": ".py",
   "mimetype": "text/x-python",
   "name": "python",
   "nbconvert_exporter": "python",
   "pygments_lexer": "ipython3",
   "version": "3.5.2"
  }
 },
 "nbformat": 4,
 "nbformat_minor": 0
}
